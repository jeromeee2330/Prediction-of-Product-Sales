{
  "nbformat": 4,
  "nbformat_minor": 0,
  "metadata": {
    "colab": {
      "provenance": [],
      "authorship_tag": "ABX9TyOcgKV4YQxvVi/p+xYbm5PJ",
      "include_colab_link": true
    },
    "kernelspec": {
      "name": "python3",
      "display_name": "Python 3"
    },
    "language_info": {
      "name": "python"
    }
  },
  "cells": [
    {
      "cell_type": "markdown",
      "metadata": {
        "id": "view-in-github",
        "colab_type": "text"
      },
      "source": [
        "<a href=\"https://colab.research.google.com/github/jeromeee2330/Prediction-of-Product-Sales/blob/main/Prediction_of_Product_Sales_PJMCarreon.ipynb\" target=\"_parent\"><img src=\"https://colab.research.google.com/assets/colab-badge.svg\" alt=\"Open In Colab\"/></a>"
      ]
    },
    {
      "cell_type": "markdown",
      "source": [
        "#PROJECT TITLE: Prediction of Product Sales\n",
        "- Paul Jerome Carreon\n",
        "\n",
        "##Product Overview\n",
        "\n",
        "##Load and Inspect Data\n",
        "\n"
      ],
      "metadata": {
        "id": "rawvcfEY9GBx"
      }
    },
    {
      "cell_type": "code",
      "source": [
        "\"\"\"UNIVARIATE PLOTTING FUNCTIONS FOR EDA\"\"\"\n",
        "# Add the print statements to the function\n",
        "def explore_categorical(df, x, fillna = True, placeholder = 'MISSING',\n",
        "                        figsize = (6,4), order = None):\n",
        "  \"\"\"Creates a seaborn countplot with the option to temporarily fill missing values\n",
        "  Prints statements about null values, cardinality, and checks for\n",
        "  constant/quasi-constant features.\n",
        "  Source:{PASTE IN FINAL LESSON LINK}\n",
        "  \"\"\"\n",
        "  # Make a copy of the dataframe and fillna\n",
        "  temp_df = df.copy()\n",
        "  # Before filling nulls, save null value counts and percent for printing\n",
        "  null_count = temp_df[x].isna().sum()\n",
        "  null_perc = null_count/len(temp_df)* 100\n",
        "  # fillna with placeholder\n",
        "  if fillna == True:\n",
        "    temp_df[x] = temp_df[x].fillna(placeholder)\n",
        "  # Create figure with desired figsize\n",
        "  fig, ax = plt.subplots(figsize=figsize)\n",
        "  # Plotting a count plot\n",
        "  sns.countplot(data=temp_df, x=x, ax=ax, order=order)\n",
        "  # Rotate Tick Labels for long names\n",
        "  ax.set_xticklabels(ax.get_xticklabels(), rotation=45, ha='right')\n",
        "  # Add a title with the feature name included\n",
        "  ax.set_title(f\"Column: {x}\", fontweight='bold')\n",
        "\n",
        "  # Fix layout and show plot (before print statements)\n",
        "  fig.tight_layout()\n",
        "  plt.show()\n",
        "\n",
        "  # Print null value info\n",
        "  print(f\"- NaN's Found: {null_count} ({round(null_perc,2)}%)\")\n",
        "  # Print cardinality info\n",
        "  nunique = temp_df[x].nunique()\n",
        "  print(f\"- Unique Values: {nunique}\")\n",
        "  # First find value counts of feature\n",
        "  val_counts = temp_df[x].value_counts(dropna=False)\n",
        "  # Define the most common value\n",
        "  most_common_val = val_counts.index[0]\n",
        "  # Define the frequency of the most common value\n",
        "  freq = val_counts.values[0]\n",
        "  # Calculate the percentage of the most common value\n",
        "  perc_most_common = freq / len(temp_df) * 100\n",
        "  # Print the results\n",
        "  print(f\"- Most common value: '{most_common_val}' occurs {freq} times ({round(perc_most_common,2)}%)\")\n",
        "  # print message if quasi-constant or constant (most common val more than 98% of data)\n",
        "  if perc_most_common > 98:\n",
        "    print(f\"\\n- [!] Warning: '{x}' is a constant or quasi-constant feature and should be dropped.\")\n",
        "  else:\n",
        "    print(\"- Not constant or quasi-constant.\")\n",
        "  return fig, ax\n",
        "\n",
        "\n",
        "# TO DO: add the new print statements from explore_categorical\n",
        "def explore_numeric(df, x, figsize=(6,5) ):\n",
        "  \"\"\"Creates a seaborn histplot and boxplot with a share x-axis,\n",
        "  Prints statements about null values, cardinality, and checks for\n",
        "  constant/quasi-constant features.\n",
        "  Source:{PASTE IN FINAL LESSON LINK}\n",
        "  \"\"\"\n",
        "\n",
        "  ## Save null value counts and percent for printing\n",
        "  null_count = df[x].isna().sum()\n",
        "  null_perc = null_count/len(df)* 100\n",
        "\n",
        "\n",
        "  ## Making our figure with gridspec for subplots\n",
        "  gridspec = {'height_ratios':[0.7,0.3]}\n",
        "  fig, axes = plt.subplots(nrows=2, figsize=figsize,\n",
        "                           sharex=True, gridspec_kw=gridspec)\n",
        "  # Histogram on Top\n",
        "  sns.histplot(data=df, x=x, ax=axes[0])\n",
        "\n",
        "  # Boxplot on Bottom\n",
        "  sns.boxplot(data=df, x=x, ax=axes[1])\n",
        "\n",
        "  ## Adding a title\n",
        "  axes[0].set_title(f\"Column: {x}\", fontweight='bold')\n",
        "\n",
        "  ## Adjusting subplots to best fill Figure\n",
        "  fig.tight_layout()\n",
        "\n",
        "  # Ensure plot is shown before message\n",
        "  plt.show()\n",
        "\n",
        "\n",
        "  # Print null value info\n",
        "  print(f\"- NaN's Found: {null_count} ({round(null_perc,2)}%)\")\n",
        "  # Print cardinality info\n",
        "  nunique = df[x].nunique()\n",
        "  print(f\"- Unique Values: {nunique}\")\n",
        "\n",
        "\n",
        "  # Get the most most common value, its count as # and as %\n",
        "  most_common_val_count = df[x].value_counts(dropna=False).head(1)\n",
        "  most_common_val = most_common_val_count.index[0]\n",
        "  freq = most_common_val_count.values[0]\n",
        "  perc_most_common = freq / len(df) * 100\n",
        "\n",
        "  print(f\"- Most common value: '{most_common_val}' occurs {freq} times ({round(perc_most_common,2)}%)\")\n",
        "\n",
        "  # print message if quasi-constant or constant (most common val more than 98% of data)\n",
        "  if perc_most_common > 98:\n",
        "    print(f\"\\n- [!] Warning: '{x}' is a constant or quasi-constant feature and should be dropped.\")\n",
        "  else:\n",
        "    print(\"- Not constant or quasi-constant.\")\n",
        "  return fig, axes\n"
      ],
      "metadata": {
        "id": "95io6Z7A2s1H"
      },
      "execution_count": null,
      "outputs": []
    },
    {
      "cell_type": "code",
      "source": [
        "\"\"\"MULTIVARIATE PLOTTING FUNCTIONS VS. NUMERIC TARGET\"\"\"\n",
        "\n",
        "def plot_categorical_vs_target(df, x, y='rating',figsize=(6,4),\n",
        "                            fillna = True, placeholder = 'MISSING',\n",
        "                            order = None):\n",
        "  \"\"\"Plots a combination of a seaborn barplot of means combined with\n",
        "  a seaborn stripplot to show the spread of the data.\n",
        "  Source:{PASTE IN FINAL LESSON LINK}\n",
        "  \"\"\"\n",
        "  # Make a copy of the dataframe and fillna\n",
        "  temp_df = df.copy()\n",
        "  # fillna with placeholder\n",
        "  if fillna == True:\n",
        "    temp_df[x] = temp_df[x].fillna(placeholder)\n",
        "\n",
        "  # or drop nulls prevent unwanted 'nan' group in stripplot\n",
        "  else:\n",
        "    temp_df = temp_df.dropna(subset=[x])\n",
        "  # Create the figure and subplots\n",
        "  fig, ax = plt.subplots(figsize=figsize)\n",
        "\n",
        "    # Barplot\n",
        "  sns.barplot(data=temp_df, x=x, y=y, ax=ax, order=order, alpha=0.6,\n",
        "              linewidth=1, edgecolor='black', errorbar=None)\n",
        "\n",
        "  # Boxplot\n",
        "  sns.stripplot(data=temp_df, x=x, y=y, hue=x, ax=ax,\n",
        "                order=order, hue_order=order, legend=False,\n",
        "                edgecolor='white', linewidth=0.5,\n",
        "                size=3,zorder=0)\n",
        "  # Rotate xlabels\n",
        "  ax.set_xticklabels(ax.get_xticklabels(), rotation=45, ha='right')\n",
        "\n",
        "  # Add a title\n",
        "  ax.set_title(f\"{x} vs. {y}\", fontweight='bold')\n",
        "  fig.tight_layout()\n",
        "  return fig, ax\n",
        "\n",
        "\n",
        "def plot_numeric_vs_target(df, x, y='rating',\n",
        "                           figsize=(6,4),\n",
        "                           ):\n",
        "  \"\"\"Plots a seaborn regplot with Pearson's correlation (r) added\n",
        "  to the title.\n",
        "  Source:{PASTE IN FINAL LESSON LINK}\n",
        "  \"\"\"\n",
        "  # Calculate the correlation\n",
        "  corr = df[[x,y]].corr().round(2)\n",
        "  r = corr.loc[x,y]\n",
        "\n",
        "  # Plot the data\n",
        "  fig, ax = plt.subplots(figsize=figsize)\n",
        "  scatter_kws={'ec':'white','lw':1,'alpha':0.8}\n",
        "  sns.regplot(data=df, x=x, y=y, ax=ax, scatter_kws=scatter_kws)\n",
        "\n",
        "  ## Add the title with the correlation\n",
        "  ax.set_title(f\"{x} vs. {y} (r = {r})\", fontweight='bold')\n",
        "\n",
        "  # Make sure the plot is shown before the print statement\n",
        "  plt.show()\n",
        "\n",
        "  return fig, ax"
      ],
      "metadata": {
        "id": "j2ko2I5u9cdA"
      },
      "execution_count": null,
      "outputs": []
    },
    {
      "cell_type": "code",
      "source": [
        "# Mount google drive\n",
        "from google.colab import drive\n",
        "drive.mount('/content/drive')\n",
        "\n",
        "import pandas as pd\n",
        "import numpy as np\n",
        "import matplotlib.pyplot as plt\n",
        "import seaborn as sns\n",
        "\n",
        "# Import required packages\n",
        "fpath = \"/content/drive/MyDrive/CodingDojo/01-Fundamentals/Week02/Data/sales_predictions_2023.csv\"\n",
        "\n",
        "# Save the filepath and load the data as\n",
        "df_product_sales = pd.read_csv(fpath)\n"
      ],
      "metadata": {
        "id": "F6gKECji-fCE"
      },
      "execution_count": null,
      "outputs": []
    },
    {
      "cell_type": "code",
      "source": [
        "df = df_product_sales.copy()"
      ],
      "metadata": {
        "id": "51rJW-lpcyHs"
      },
      "execution_count": null,
      "outputs": []
    },
    {
      "cell_type": "code",
      "source": [
        "df_product_sales.shape"
      ],
      "metadata": {
        "id": "fTv4cEerExX_"
      },
      "execution_count": null,
      "outputs": []
    },
    {
      "cell_type": "markdown",
      "source": [
        "1) How many rows and columns? 8523 rows, 12 columns"
      ],
      "metadata": {
        "id": "G1EGAFHgEi28"
      }
    },
    {
      "cell_type": "code",
      "source": [
        "df_product_sales.info();\n",
        "df_product_sales.head()\n"
      ],
      "metadata": {
        "id": "oiKco0a9_60E"
      },
      "execution_count": null,
      "outputs": []
    },
    {
      "cell_type": "markdown",
      "source": [
        "2) What are the datatypes of each variable?"
      ],
      "metadata": {
        "id": "rBZl_ihnEm7J"
      }
    },
    {
      "cell_type": "code",
      "source": [
        "df_product_sales.info()"
      ],
      "metadata": {
        "id": "oV6fgOlqE7_C"
      },
      "execution_count": null,
      "outputs": []
    },
    {
      "cell_type": "markdown",
      "source": [
        "\n",
        "\n",
        "##Clean Data\n",
        "\n"
      ],
      "metadata": {
        "id": "9bR0Es0r-oVJ"
      }
    },
    {
      "cell_type": "markdown",
      "source": [
        "3) Are there duplicates? If so, drop any duplicates."
      ],
      "metadata": {
        "id": "5wWFXGiIJmNO"
      }
    },
    {
      "cell_type": "code",
      "source": [
        "# Save a filter called \"duplicated_rows\" that identifies duplicated rows\n",
        "duplicated_rows = df_product_sales.duplicated(keep= False)\n",
        "\n",
        "# Get the sum of duplicated_rows filter to see the number of duplicate rows\n",
        "duplicated_rows.sum()"
      ],
      "metadata": {
        "id": "aJPsZHX5vOc6"
      },
      "execution_count": null,
      "outputs": []
    },
    {
      "cell_type": "markdown",
      "source": [
        "no duplicated rows"
      ],
      "metadata": {
        "id": "NXmTjwegKGQm"
      }
    },
    {
      "cell_type": "markdown",
      "source": [
        "4) Identify missing values."
      ],
      "metadata": {
        "id": "SSxRo4T0KJhV"
      }
    },
    {
      "cell_type": "code",
      "source": [
        "df_product_sales.nunique()"
      ],
      "metadata": {
        "id": "s29CWNqFvup8"
      },
      "execution_count": null,
      "outputs": []
    },
    {
      "cell_type": "code",
      "source": [
        "df_product_sales.nunique() / len(df_product_sales) *100"
      ],
      "metadata": {
        "id": "KWDa070aw6mN"
      },
      "execution_count": null,
      "outputs": []
    },
    {
      "cell_type": "code",
      "source": [
        "df_product_sales['Item_Identifier'].value_counts()"
      ],
      "metadata": {
        "id": "eBVnyoVqxnNZ"
      },
      "execution_count": null,
      "outputs": []
    },
    {
      "cell_type": "code",
      "source": [
        "import missingno as msno\n",
        "msno.matrix(df_product_sales);"
      ],
      "metadata": {
        "id": "aGOY100hzsVB"
      },
      "execution_count": null,
      "outputs": []
    },
    {
      "cell_type": "code",
      "source": [
        "# save list of categorical column name. (Hint: select_dtypes)\n",
        "cat_cols = df_product_sales.select_dtypes('object').columns\n",
        "cat_cols"
      ],
      "metadata": {
        "id": "eCH5CEFfytu1"
      },
      "execution_count": null,
      "outputs": []
    },
    {
      "cell_type": "code",
      "source": [
        "# use the list of cat columns to fill null values with MISSING\n",
        "df_product_sales[cat_cols] = df_product_sales[cat_cols].fillna(\"MISSING\")"
      ],
      "metadata": {
        "id": "iZMt146t2naC"
      },
      "execution_count": null,
      "outputs": []
    },
    {
      "cell_type": "code",
      "source": [
        "# Saving list of column names for numeric cols\n",
        "num_cols = df_product_sales.select_dtypes('number').columns\n",
        "num_cols"
      ],
      "metadata": {
        "id": "4YOVbRW821Mf"
      },
      "execution_count": null,
      "outputs": []
    },
    {
      "cell_type": "code",
      "source": [
        "# use the list of num columns to fill null values with -1\n",
        "df_product_sales[num_cols] = df_product_sales[num_cols].fillna(-1)"
      ],
      "metadata": {
        "id": "OKvZCaqo27wF"
      },
      "execution_count": null,
      "outputs": []
    },
    {
      "cell_type": "code",
      "source": [
        "# Confirm no more nulls using Pandas\n",
        "df_product_sales.isna().sum()"
      ],
      "metadata": {
        "id": "gAG37EDy3CiT"
      },
      "execution_count": null,
      "outputs": []
    },
    {
      "cell_type": "markdown",
      "source": [
        "6) Confirm that there are no missing values after addressing them."
      ],
      "metadata": {
        "id": "-MaFgcI3Kfyp"
      }
    },
    {
      "cell_type": "code",
      "source": [
        "# Confirm no more nulls using using missingno\n",
        "msno.matrix(df_product_sales);"
      ],
      "metadata": {
        "id": "eA1Zjb-S3Hfv"
      },
      "execution_count": null,
      "outputs": []
    },
    {
      "cell_type": "code",
      "source": [
        "# Check the nunique for just the object cols\n",
        "df_product_sales[cat_cols].nunique()"
      ],
      "metadata": {
        "id": "TdOppnh83m_Q"
      },
      "execution_count": null,
      "outputs": []
    },
    {
      "cell_type": "markdown",
      "source": [
        "7) Find and fix any inconsistent categories of data (for example: fix cat, Cat, and cats so that they are consistent)."
      ],
      "metadata": {
        "id": "neDmdfVzKqkL"
      }
    },
    {
      "cell_type": "code",
      "source": [
        "# Remake the list of string columns (after dropping previous cols)\n",
        "string_cols = df_product_sales.select_dtypes('object').columns\n",
        "# loop through the list of string columns\n",
        "  # print the value counts for the column\n",
        "  # Print an empty line for readability\n",
        "\n",
        "# Obtain the value counts for all string columns\n",
        "for col in string_cols:\n",
        "  print(f\"Value Counts for {col}\")\n",
        "  print(df_product_sales[col].value_counts())\n",
        "  print('\\n')"
      ],
      "metadata": {
        "id": "xK8_o5x036Fw"
      },
      "execution_count": null,
      "outputs": []
    },
    {
      "cell_type": "code",
      "source": [
        "# Replace \"LF\" with \"Low Fat\"\n",
        "df_product_sales['Item_Fat_Content'] = df_product_sales['Item_Fat_Content'].replace({'LF':\"Low Fat\", 'low fat':\"Low Fat\", 'reg':\"Regular\"})\n",
        "\n",
        "\n",
        "# Check the value counts again to confirm\n",
        "df_product_sales['Item_Fat_Content'].value_counts()"
      ],
      "metadata": {
        "id": "WY62Xrby5yI-"
      },
      "execution_count": null,
      "outputs": []
    },
    {
      "cell_type": "markdown",
      "source": [
        "8) For any numerical columns, obtain the summary statistics of each (min, max, mean)."
      ],
      "metadata": {
        "id": "yg1EEjanK2tB"
      }
    },
    {
      "cell_type": "code",
      "source": [
        "df_product_sales[num_cols].describe()"
      ],
      "metadata": {
        "id": "c0kGKX2kFhl1"
      },
      "execution_count": null,
      "outputs": []
    },
    {
      "cell_type": "markdown",
      "source": [
        "\n",
        "##Exploratory Data Analysis\n"
      ],
      "metadata": {
        "id": "UUq6VK6fvM86"
      }
    },
    {
      "cell_type": "markdown",
      "source": [
        "Heatmap to view the correlation between features"
      ],
      "metadata": {
        "id": "wszVqhlnRtEL"
      }
    },
    {
      "cell_type": "code",
      "source": [
        "corr = df_product_sales.corr(numeric_only = True)\n",
        "corr.round(2)\n",
        "ax = sns.heatmap(corr, cmap = 'coolwarm', annot = True);\n",
        "ax.set_title(\"Correlation of Variables\");"
      ],
      "metadata": {
        "id": "2B59_Jkk_OvH"
      },
      "execution_count": null,
      "outputs": []
    },
    {
      "cell_type": "markdown",
      "source": [
        "We can see that there is a strong correlation between the maximum retail price with item outlet sales."
      ],
      "metadata": {
        "id": "Yipa71WADO2Z"
      }
    },
    {
      "cell_type": "code",
      "source": [
        "ax = sns.countplot(data=df_product_sales, x='Item_Type', order=df_product_sales['Item_Type'].value_counts().index);\n",
        "ax.tick_params(axis='x', rotation = 90);"
      ],
      "metadata": {
        "id": "anFNdhcwICWO"
      },
      "execution_count": null,
      "outputs": []
    },
    {
      "cell_type": "markdown",
      "source": [
        "As the data suggest, most of the items that were sold were fruits and vegetables followed closely by snack foods."
      ],
      "metadata": {
        "id": "2pGnFG61lOjB"
      }
    },
    {
      "cell_type": "code",
      "source": [
        "means = df_product_sales.groupby('Item_Type')['Item_MRP'].mean().sort_values(ascending=False)\n",
        "means"
      ],
      "metadata": {
        "id": "phBQZZx_sBaP"
      },
      "execution_count": null,
      "outputs": []
    },
    {
      "cell_type": "code",
      "source": [
        "#barplot to explore charges\n",
        "fig, ax = plt.subplots(figsize=(10,10))\n",
        "ax = sns.barplot(data=df_product_sales, x='Item_Type', y='Item_MRP', order=means.index);\n",
        "ax.tick_params(axis='x', rotation = 90);\n",
        "plt.xlabel(\"Item Type\");\n",
        "plt.ylabel(\"Item MRP\");\n",
        "plt.title(\"Item Type vs Item Maximum Retail Price\");"
      ],
      "metadata": {
        "id": "t2hZTJGQrepF"
      },
      "execution_count": null,
      "outputs": []
    },
    {
      "cell_type": "code",
      "source": [
        "#Histogram for the amount of sales\n",
        "df_product_sales['Item_Outlet_Sales'].hist(bins = 'auto', edgecolor='black');\n",
        "ax.set_title('Distribution of Item Outlet Sales');\n",
        "ax.set_xlabel('Price ($)');\n",
        "ax.set_ylabel('Number of Sales');"
      ],
      "metadata": {
        "id": "UjYA_4Pi0TfL"
      },
      "execution_count": null,
      "outputs": []
    },
    {
      "cell_type": "code",
      "source": [
        "means_sales = df_product_sales.groupby('Item_Type')['Item_Outlet_Sales'].mean().sort_values(ascending=False)"
      ],
      "metadata": {
        "id": "XUyR1f3VP0xr"
      },
      "execution_count": null,
      "outputs": []
    },
    {
      "cell_type": "code",
      "source": [
        "#barplot to explore charges\n",
        "fig, ax = plt.subplots(figsize=(20,10))\n",
        "ax = sns.barplot(data=df_product_sales, x='Item_Type', y='Item_Outlet_Sales', order=means_sales.index);\n",
        "ax.tick_params(axis='x', rotation = 90);\n",
        "plt.xlabel(\"Item Type\");\n",
        "plt.ylabel(\"Item Otlet Sales\");\n",
        "plt.title(\"Item Type vs Item Outlet Sales\");"
      ],
      "metadata": {
        "id": "ZH1uUSkoPRh_"
      },
      "execution_count": null,
      "outputs": []
    },
    {
      "cell_type": "markdown",
      "source": [
        "Compare Price for MRP"
      ],
      "metadata": {
        "id": "6arT_GNHNWMD"
      }
    },
    {
      "cell_type": "code",
      "source": [
        "Item_sales = df_product_sales.groupby('Item_Type').mean()[['Item_Outlet_Sales','Item_MRP']];\n",
        "Item_sales.head();"
      ],
      "metadata": {
        "id": "dXW272EgU64c"
      },
      "execution_count": null,
      "outputs": []
    },
    {
      "cell_type": "code",
      "source": [
        "ax = sns.boxplot(data=df_product_sales, x=\"Item_Type\", y=\"Item_Outlet_Sales\")\n",
        "ax.set_title(\"Boxplot for Net Sales\");\n",
        "ax.tick_params(axis='x', rotation = 90);"
      ],
      "metadata": {
        "id": "RcGPm3A6Wjv1"
      },
      "execution_count": null,
      "outputs": []
    },
    {
      "cell_type": "markdown",
      "source": [
        "\n",
        "##Feature Inspection\n"
      ],
      "metadata": {
        "id": "T4gZHlha_NA9"
      }
    },
    {
      "cell_type": "markdown",
      "source": [
        "![image.png](data:image/png;base64,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)"
      ],
      "metadata": {
        "id": "VxZ2vkQobW0X"
      }
    },
    {
      "cell_type": "markdown",
      "source": [
        "Remove the placeholders you added in week 2 and replace them with null values."
      ],
      "metadata": {
        "id": "ldqbZ047oUub"
      }
    },
    {
      "cell_type": "code",
      "source": [
        "df_product_sales[cat_cols].loc['MISSING'] = np.nan;\n",
        "df_product_sales.head()"
      ],
      "metadata": {
        "id": "Xz80Zkm9VGwN"
      },
      "execution_count": null,
      "outputs": []
    },
    {
      "cell_type": "code",
      "source": [
        "df_product_sales[num_cols].loc['-1'] =  np.nan;\n",
        "df_product_sales.head();"
      ],
      "metadata": {
        "id": "1Pq4U9EOpU9E"
      },
      "execution_count": null,
      "outputs": []
    },
    {
      "cell_type": "code",
      "source": [
        "msno.matrix(df_product_sales);"
      ],
      "metadata": {
        "id": "z3W1doLippj5"
      },
      "execution_count": null,
      "outputs": []
    }
  ]
}