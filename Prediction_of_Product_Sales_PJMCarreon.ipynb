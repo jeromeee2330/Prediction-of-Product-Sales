{
  "nbformat": 4,
  "nbformat_minor": 0,
  "metadata": {
    "colab": {
      "provenance": [],
      "authorship_tag": "ABX9TyM+FQEAHVci6mb1wNrZb0nZ",
      "include_colab_link": true
    },
    "kernelspec": {
      "name": "python3",
      "display_name": "Python 3"
    },
    "language_info": {
      "name": "python"
    }
  },
  "cells": [
    {
      "cell_type": "markdown",
      "metadata": {
        "id": "view-in-github",
        "colab_type": "text"
      },
      "source": [
        "<a href=\"https://colab.research.google.com/github/jeromeee2330/Prediction-of-Product-Sales/blob/main/Prediction_of_Product_Sales_PJMCarreon.ipynb\" target=\"_parent\"><img src=\"https://colab.research.google.com/assets/colab-badge.svg\" alt=\"Open In Colab\"/></a>"
      ]
    },
    {
      "cell_type": "code",
      "execution_count": null,
      "metadata": {
        "id": "YjkkO4Vy84AC"
      },
      "outputs": [],
      "source": []
    },
    {
      "cell_type": "markdown",
      "source": [
        "#PROJECT TITLE: Prediction of Product Sales\n",
        "- Paul Jerome Carreon\n",
        "\n",
        "##Product Overview\n",
        "\n",
        "##Load and Inspect Data\n",
        "\n",
        "##Clean Data\n",
        "\n",
        "##Exploratory Data Analysis\n",
        "\n",
        "##Feature Inspection\n"
      ],
      "metadata": {
        "id": "rawvcfEY9GBx"
      }
    }
  ]
}